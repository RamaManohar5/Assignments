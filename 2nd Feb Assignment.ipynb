{
 "cells": [
  {
   "cell_type": "raw",
   "id": "9b622c67-da50-4e8a-ad97-77e3ff0df632",
   "metadata": {},
   "source": [
    "Q1. What are the characteristics of the tuples? Is tuple immutable?\n",
    "\n",
    "        tuples are ordered, indexed & allows duplciate items. \n",
    "        \n",
    "        tuples are immutable.\n"
   ]
  },
  {
   "cell_type": "raw",
   "id": "f3db0f51-9597-4182-9eba-d5cbcf56c920",
   "metadata": {},
   "source": [
    "Q2. What are the two tuple methods in python? Give an example of each method. Give a reason why tuples have only two in-built methods as compared to Lists.\n",
    "\n",
    "    tuple has only two built-in methods.\n",
    "    \n",
    "        count() - The count() method of Tuple returns the number of times the given element appears in the tuple.\n",
    "        index() - The Index() method returns the first occurrence of the given element from the tuple.\n",
    "        \n",
    "    Tuples are immutable which means that after initializing a tuple, it is impossible to update or change or add or remove individual items in a tuple.\n",
    "    "
   ]
  },
  {
   "cell_type": "code",
   "execution_count": 2,
   "id": "d4c446ae-2837-4d7b-9985-32f35d60ef32",
   "metadata": {},
   "outputs": [],
   "source": [
    "tuple1 = (1,2,3,4,5,6,7,8,9,1,2,3,5,6,7,75,4,3,5,6,5)\n",
    "tuple2 = ('datascience', 'python', 'java')"
   ]
  },
  {
   "cell_type": "code",
   "execution_count": 3,
   "id": "8d0baffc-f1f8-449e-aac3-c1770f8681cc",
   "metadata": {},
   "outputs": [
    {
     "name": "stdout",
     "output_type": "stream",
     "text": [
      "4\n"
     ]
    }
   ],
   "source": [
    "r1 = tuple1.count(5)\n",
    "print(r1)"
   ]
  },
  {
   "cell_type": "code",
   "execution_count": null,
   "id": "1e847ef2-a54c-482f-bc9c-2063e40fea58",
   "metadata": {},
   "outputs": [],
   "source": []
  }
 ],
 "metadata": {
  "kernelspec": {
   "display_name": "Python 3 (ipykernel)",
   "language": "python",
   "name": "python3"
  },
  "language_info": {
   "codemirror_mode": {
    "name": "ipython",
    "version": 3
   },
   "file_extension": ".py",
   "mimetype": "text/x-python",
   "name": "python",
   "nbconvert_exporter": "python",
   "pygments_lexer": "ipython3",
   "version": "3.10.8"
  }
 },
 "nbformat": 4,
 "nbformat_minor": 5
}
