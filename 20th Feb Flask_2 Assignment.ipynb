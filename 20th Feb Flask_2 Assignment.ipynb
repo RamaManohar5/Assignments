{
 "cells": [
  {
   "cell_type": "markdown",
   "id": "27e71876-6358-4c71-a726-8a4eecf20d9e",
   "metadata": {},
   "source": [
    "Q1. Explain GET and POST methods.\n",
    "Q2. Why is request used in Flask?\n",
    "Q3. Why is redirect() used in Flask?\n",
    "Q4. What are templates in Flask? Why is the render_template() function used?\n",
    "Q5. Create a simple API. Use Postman to test it. Attach the screenshot of the output in the Jupyter Notebook."
   ]
  },
  {
   "cell_type": "markdown",
   "id": "9a0caa57-c6f0-4117-9afe-62ed956ae9c2",
   "metadata": {},
   "source": [
    "### Q1. Explain GET and POST methods.\n",
    "    \n",
    "        The GET method is used to request the server to GET the data or information. It should not be used with the requesting sensitive data, and there are certain limits to the requesting data. GET requests to remain in the browser history, and it can also be bookmarked. GET requests can be cached.\n",
    "        \n",
    "        The POST method is used to send the data to the server. It is generally used when we want to upload data or any file to the server, like filling out a form, etc.POST requests cannot be bookmarked, and it does not remain in the browser history. It cannot be cached.\n",
    "        "
   ]
  },
  {
   "cell_type": "markdown",
   "id": "ee2bf133-be80-442a-abd7-7d6a37ccd49b",
   "metadata": {},
   "source": [
    "### Q2. Why is request used in Flask?\n",
    "    \n",
    "     The Request, in Flask, is an object that contains all the data sent from the Client to Server. This data can be recovered using the GET/POST Methods."
   ]
  },
  {
   "cell_type": "markdown",
   "id": "92bf0af5-f015-42fe-aeba-70307a81373e",
   "metadata": {},
   "source": [
    "### Q3. Why is redirect() used in Flask?\n",
    "    \n",
    "    The Flask class has a redirect() function. When invoked, it returns a response object and redirects the user to another target location with the specified status code.\n",
    "    \n",
    "    Sometimes we need to redirect an URL, like when the url is no longer available or the user is not logged in. The redirect function lets us do that in Flask."
   ]
  },
  {
   "cell_type": "markdown",
   "id": "efb98dcf-422b-44a2-8186-8868dee637a4",
   "metadata": {},
   "source": [
    "### Q4. What are templates in Flask? Why is the render_template() function used?\n",
    "\n",
    "    Templates are files that contain static data as well as placeholders for dynamic data. A template is rendered with specific data to produce a final document. Flask uses the Jinja template library to render templates\n",
    "    \n",
    "    render_template is a Flask function from the flask.templating package. render_template is used to generate output from a template file based on the Jinja2 engine that is found in the application's templates folder."
   ]
  },
  {
   "cell_type": "markdown",
   "id": "c08c57ac-fd32-4b75-9f93-216db2a3deed",
   "metadata": {},
   "source": [
    "### Q5. Create a simple API. Use Postman to test it. Attach the screenshot of the output in the Jupyter Notebook."
   ]
  },
  {
   "cell_type": "code",
   "execution_count": 1,
   "id": "01a7ffad-1733-4d4b-b2bb-fb4fa9084f11",
   "metadata": {},
   "outputs": [
    {
     "ename": "ModuleNotFoundError",
     "evalue": "No module named 'flask'",
     "output_type": "error",
     "traceback": [
      "\u001b[0;31m---------------------------------------------------------------------------\u001b[0m",
      "\u001b[0;31mModuleNotFoundError\u001b[0m                       Traceback (most recent call last)",
      "Cell \u001b[0;32mIn[1], line 1\u001b[0m\n\u001b[0;32m----> 1\u001b[0m \u001b[38;5;28;01mfrom\u001b[39;00m \u001b[38;5;21;01mflask\u001b[39;00m \u001b[38;5;28;01mimport\u001b[39;00m Flask, request, jsonify\n\u001b[1;32m      3\u001b[0m \u001b[38;5;66;03m# Flask constructor takes the name of current module (__name__) as argument.\u001b[39;00m\n\u001b[1;32m      4\u001b[0m app \u001b[38;5;241m=\u001b[39m Flask(\u001b[38;5;18m__name__\u001b[39m)\n",
      "\u001b[0;31mModuleNotFoundError\u001b[0m: No module named 'flask'"
     ]
    }
   ],
   "source": [
    "from flask import Flask, request, jsonify\n",
    "\n",
    "# Flask constructor takes the name of current module (__name__) as argument.\n",
    "app = Flask(__name__)\n",
    "\n",
    "# The route() function of the Flask class is a decorator, which tells the application which URL should call the associated function\n",
    "@app.route('/index', methods = ['POST'])\n",
    "def welcome_page() :\n",
    "    # The request object contains all data sent from client to server.\n",
    "    if request.method == \"POST\":\n",
    "        name = request.json['name']\n",
    "        r = \"Hello {}, Welcome to Flask\".format(name)\n",
    "\n",
    "    return jsonify(r)\n",
    "\n",
    "if __name__ == '__main__' : \n",
    "    app.run(host=\"0.0.0.0\")"
   ]
  },
  {
   "cell_type": "code",
   "execution_count": null,
   "id": "6961299a-c868-48c5-8406-8018bc33ff9e",
   "metadata": {},
   "outputs": [],
   "source": []
  }
 ],
 "metadata": {
  "kernelspec": {
   "display_name": "Python 3 (ipykernel)",
   "language": "python",
   "name": "python3"
  },
  "language_info": {
   "codemirror_mode": {
    "name": "ipython",
    "version": 3
   },
   "file_extension": ".py",
   "mimetype": "text/x-python",
   "name": "python",
   "nbconvert_exporter": "python",
   "pygments_lexer": "ipython3",
   "version": "3.10.8"
  }
 },
 "nbformat": 4,
 "nbformat_minor": 5
}
